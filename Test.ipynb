{
 "cells": [
  {
   "cell_type": "code",
   "execution_count": 1,
   "id": "dcdeb2ea",
   "metadata": {},
   "outputs": [],
   "source": [
    "# Import necessary libraries\n",
    "import yaml\n",
    "import pandas as pd\n",
    "\n",
    "# Load the CSV file\n",
    "csv_file_path = \"data/MethodList.csv\"  # Replace with the actual file name\n",
    "df = pd.read_csv(csv_file_path)\n",
    "df = df.loc[:, ~df.columns.str.contains('^Unnamed')]"
   ]
  },
  {
   "cell_type": "code",
   "execution_count": 2,
   "id": "31c6218c",
   "metadata": {},
   "outputs": [],
   "source": [
    "df = df.head(140) # NOTE"
   ]
  },
  {
   "cell_type": "code",
   "execution_count": 3,
   "id": "ac218dfe",
   "metadata": {},
   "outputs": [],
   "source": [
    "df = df.fillna('-')"
   ]
  },
  {
   "cell_type": "code",
   "execution_count": 4,
   "id": "a6112422",
   "metadata": {},
   "outputs": [],
   "source": [
    "df['Task'] = df['Task'].str.split(';')\n",
    "df['Model'] = df['Model'].str.split(';')\n",
    "df['Inspired by'] = df['Inspired by'].str.split(';')\n",
    "# remove first element of each list in 'Task' column\n",
    "df['Task'] = df['Task'].apply(lambda x: x[1:] if isinstance(x, list) and len(x[0])==0 else x)\n",
    "# df['Task'] = df['Task'].astype(str)\n",
    "df['Year'] = df['Year'].astype(int)\n",
    "\n",
    "# replace \\n with space\n",
    "df['Description'] = df['Description'].apply(lambda x: x.replace('\\n',' '))\n",
    "# Convert the DataFrame to a dictionary\n",
    "data_dict = df.to_dict(orient='records')"
   ]
  },
  {
   "cell_type": "code",
   "execution_count": 5,
   "id": "637aa92a",
   "metadata": {},
   "outputs": [],
   "source": [
    "# Save the dictionary as a YAML file\n",
    "yaml_file_path = \"methods.yaml\"  # Replace with the desired output file name\n",
    "with open(yaml_file_path, 'w') as yaml_file:\n",
    "    yaml.dump(data_dict, yaml_file, default_flow_style=False)"
   ]
  },
  {
   "cell_type": "code",
   "execution_count": null,
   "id": "9873825e",
   "metadata": {},
   "outputs": [],
   "source": []
  },
  {
   "cell_type": "code",
   "execution_count": null,
   "id": "37dd149b",
   "metadata": {},
   "outputs": [],
   "source": []
  },
  {
   "cell_type": "code",
   "execution_count": null,
   "id": "6ef9885c",
   "metadata": {},
   "outputs": [],
   "source": []
  },
  {
   "cell_type": "code",
   "execution_count": null,
   "id": "cfe055be",
   "metadata": {},
   "outputs": [],
   "source": []
  },
  {
   "cell_type": "code",
   "execution_count": null,
   "id": "dc3a6ccb",
   "metadata": {},
   "outputs": [],
   "source": []
  }
 ],
 "metadata": {
  "kernelspec": {
   "display_name": "perspective",
   "language": "python",
   "name": "python3"
  },
  "language_info": {
   "codemirror_mode": {
    "name": "ipython",
    "version": 3
   },
   "file_extension": ".py",
   "mimetype": "text/x-python",
   "name": "python",
   "nbconvert_exporter": "python",
   "pygments_lexer": "ipython3",
   "version": "3.12.10"
  }
 },
 "nbformat": 4,
 "nbformat_minor": 5
}
