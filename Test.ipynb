{
 "cells": [
  {
   "cell_type": "code",
   "execution_count": 23,
   "id": "a6112422",
   "metadata": {},
   "outputs": [],
   "source": [
    "# Import necessary libraries\n",
    "import yaml\n",
    "import pandas as pd\n",
    "\n",
    "# Load the CSV file\n",
    "csv_file_path = \"data/MethodList.csv\"  # Replace with the actual file name\n",
    "df = pd.read_csv(csv_file_path).head(20) # NOTE:\n",
    "df = df.loc[:, ~df.columns.str.contains('^Unnamed')]\n",
    "# Split the 'Task' column with '-' into lists\n",
    "df['Task'] = df['Task'].str.split(';')\n",
    "df['Model'] = df['Model'].str.split(';')\n",
    "df['Inspired by'] = df['Inspired by'].str.split(';')\n",
    "# remove first element of each list in 'Task' column\n",
    "df['Task'] = df['Task'].apply(lambda x: x[1:] if isinstance(x, list) and len(x[0])==0 else x)\n",
    "df['Task'] = df['Task'].astype(str)\n",
    "df['Year'] = df['Year'].astype(int)\n",
    "\n",
    "# replace \\n with space\n",
    "df['Description'] = df['Description'].apply(lambda x: x.replace('\\n',' '))\n",
    "# Convert the DataFrame to a dictionary\n",
    "data_dict = df.to_dict(orient='records')"
   ]
  },
  {
   "cell_type": "code",
   "execution_count": 25,
   "id": "53f18910",
   "metadata": {},
   "outputs": [
    {
     "data": {
      "text/plain": [
       "'A modified version of PCA, where the covariance matrix (COV) is the difference between COV(case/target) and αCOV(control/background). The hyperparameter α is used to balance having a high case variance and a low control variance. To provide some intuition, when α is 0, the model reduces to classic PCA on the case data.  Optimal alphas (equal to k clusters) are identified using spectral clustering over a range of cPCA runs with different alphas, with selection based on the similarity of cPCA outputs.'"
      ]
     },
     "execution_count": 25,
     "metadata": {},
     "output_type": "execute_result"
    }
   ],
   "source": [
    "df['Description'][0]"
   ]
  },
  {
   "cell_type": "code",
   "execution_count": 26,
   "id": "637aa92a",
   "metadata": {},
   "outputs": [],
   "source": [
    "# Save the dictionary as a YAML file\n",
    "yaml_file_path = \"source/_static/methods.yaml\"  # Replace with the desired output file name\n",
    "with open(yaml_file_path, 'w') as yaml_file:\n",
    "    yaml.dump(data_dict, yaml_file, default_flow_style=False)"
   ]
  },
  {
   "cell_type": "code",
   "execution_count": null,
   "id": "9873825e",
   "metadata": {},
   "outputs": [],
   "source": []
  },
  {
   "cell_type": "code",
   "execution_count": null,
   "id": "37dd149b",
   "metadata": {},
   "outputs": [],
   "source": []
  },
  {
   "cell_type": "code",
   "execution_count": null,
   "id": "6ef9885c",
   "metadata": {},
   "outputs": [],
   "source": []
  },
  {
   "cell_type": "code",
   "execution_count": null,
   "id": "cfe055be",
   "metadata": {},
   "outputs": [],
   "source": []
  },
  {
   "cell_type": "code",
   "execution_count": null,
   "id": "dc3a6ccb",
   "metadata": {},
   "outputs": [],
   "source": []
  }
 ],
 "metadata": {
  "kernelspec": {
   "display_name": "perspective",
   "language": "python",
   "name": "python3"
  },
  "language_info": {
   "codemirror_mode": {
    "name": "ipython",
    "version": 3
   },
   "file_extension": ".py",
   "mimetype": "text/x-python",
   "name": "python",
   "nbconvert_exporter": "python",
   "pygments_lexer": "ipython3",
   "version": "3.12.10"
  }
 },
 "nbformat": 4,
 "nbformat_minor": 5
}
